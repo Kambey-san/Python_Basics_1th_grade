{
 "cells": [
  {
   "cell_type": "markdown",
   "id": "9536a87e",
   "metadata": {},
   "source": [
    "#### 1. Реализовать скрипт, в котором должна быть предусмотрена функция расчёта заработной платы сотрудника. Используйте в нём формулу: (выработка в часах*ставка в час) + премия. Во время выполнения расчёта для конкретных значений необходимо запускать скрипт с параметрами.\n"
   ]
  },
  {
   "cell_type": "code",
   "execution_count": 1,
   "id": "9846c1d2",
   "metadata": {},
   "outputs": [],
   "source": [
    "import sys\n",
    "from sys import argv"
   ]
  },
  {
   "cell_type": "code",
   "execution_count": null,
   "id": "bd216bc8",
   "metadata": {},
   "outputs": [],
   "source": [
    "def salary():\n",
    "    try:\n",
    "        time, rate, bonus = map(float, argv[1:])\n",
    "        print(f'Зарплата: {time * rate + bonus}')\n",
    "    except ValueError:\n",
    "        print('Введите 3 значения, исключая строки и/или пустые')\n",
    "\n",
    "salary()"
   ]
  },
  {
   "cell_type": "markdown",
   "id": "984e85b0",
   "metadata": {},
   "source": [
    "#### 2. Представлен список чисел. Необходимо вывести элементы исходного списка, значения которых больше предыдущего элемента.\n"
   ]
  },
  {
   "cell_type": "code",
   "execution_count": 2,
   "id": "49119301",
   "metadata": {},
   "outputs": [],
   "source": [
    "import random\n",
    "from random import randint"
   ]
  },
  {
   "cell_type": "code",
   "execution_count": 4,
   "id": "59856a4e",
   "metadata": {},
   "outputs": [
    {
     "name": "stdout",
     "output_type": "stream",
     "text": [
      "[74, 95, 52, 80, 92, 29, 37]\n",
      "[95, 80, 92, 37]\n"
     ]
    }
   ],
   "source": [
    "origin_list = [randint(0, 100) for i in range(0, randint(0, 10))]\n",
    "result = [num for i, num in enumerate(origin_list[1:]) if num > origin_list[i]]\n",
    "\n",
    "print(origin_list)\n",
    "print(result)"
   ]
  },
  {
   "cell_type": "markdown",
   "id": "6fc75214",
   "metadata": {},
   "source": [
    "#### 3. Для чисел в пределах от 20 до 240 найти числа, кратные 20 или 21. Решите задание в одну строку.\n",
    "#### Подсказка: используйте функцию range() и генератор."
   ]
  },
  {
   "cell_type": "code",
   "execution_count": 5,
   "id": "3abf4500",
   "metadata": {
    "scrolled": true
   },
   "outputs": [
    {
     "name": "stdout",
     "output_type": "stream",
     "text": [
      "[20, 21, 40, 42, 60, 63, 80, 84, 100, 105, 120, 126, 140, 147, 160, 168, 180, 189, 200, 210, 220, 231, 240]\n"
     ]
    }
   ],
   "source": [
    "my_list = [num for num in range(20, 241) if num % 20 == 0 or num % 21 ==0]\n",
    "print(my_list)"
   ]
  },
  {
   "cell_type": "markdown",
   "id": "4ff0eb77",
   "metadata": {},
   "source": [
    "#### 4. Представлен список чисел. Определите элементы списка, не имеющие повторений. Сформируйте итоговый массив чисел, соответствующих требованию. Элементы выведите в порядке их следования в исходном списке. Для выполнения задания обязательно используйте генератор.\n"
   ]
  },
  {
   "cell_type": "code",
   "execution_count": 6,
   "id": "859b54eb",
   "metadata": {},
   "outputs": [],
   "source": [
    "import random\n",
    "from random import randint"
   ]
  },
  {
   "cell_type": "code",
   "execution_count": 9,
   "id": "ac698b27",
   "metadata": {
    "scrolled": true
   },
   "outputs": [
    {
     "name": "stdout",
     "output_type": "stream",
     "text": [
      "[5, 9, 7, 0, 5, 3, 8, 9, 9, 5, 2, 8, 8, 4, 6, 8, 5, 9, 4, 9]\n",
      "[7, 0, 3, 2, 6]\n",
      "['Error exception! - unhashable type:list']\n"
     ]
    }
   ],
   "source": [
    "print(num := [randint(0, 9) for i in range(20)], [i for i in num if num.count(i) == 1], sep='\\n')\n",
    "a = (['Error exception! - unhashable type:list'])\n",
    "my_dict = {i: 0 for i in a}\n",
    "for i in a:\n",
    "    my_dict[i] += 1\n",
    "\n",
    "print([i for i in my_dict if my_dict[i] == 1])"
   ]
  },
  {
   "cell_type": "markdown",
   "id": "43af46b8",
   "metadata": {},
   "source": [
    "#### 5. Реализовать формирование списка, используя функцию range() и возможности генератора. В список должны войти чётные числа от 100 до 1000 (включая границы). Нужно получить результат вычисления произведения всех элементов списка.\n",
    "#### Подсказка: использовать функцию reduce().\n"
   ]
  },
  {
   "cell_type": "code",
   "execution_count": 10,
   "id": "267f8689",
   "metadata": {},
   "outputs": [],
   "source": [
    "import functools\n",
    "from functools import reduce"
   ]
  },
  {
   "cell_type": "code",
   "execution_count": 12,
   "id": "0b4dfec8",
   "metadata": {},
   "outputs": [
    {
     "name": "stdout",
     "output_type": "stream",
     "text": [
      "Список:\n",
      "[10, 12, 14, 16, 18, 20, 22, 24, 26, 28, 30, 32, 34, 36, 38, 40, 42, 44, 46, 48, 50, 52, 54, 56, 58, 60, 62, 64, 66, 68, 70, 72, 74, 76, 78, 80, 82, 84, 86, 88, 90, 92, 94, 96, 98, 100]\n",
      "Результат произведения:\n",
      "89175064329458271479808418997937984310204882952393746947697016832000000000000\n"
     ]
    }
   ],
   "source": [
    "def list_1(num_1, num_2):\n",
    "    return num_1 * num_2\n",
    "\n",
    "list_2 = [num for num in range(10, 101, 2)] #здесь сознательно уменьшил в 10 по сравнению с условием - бумага не терпит ;))\n",
    "print(f'Список:\\n{list_2}\\nРезультат произведения:\\n{reduce(list_1, list_2)}')"
   ]
  },
  {
   "cell_type": "markdown",
   "id": "e8b85141",
   "metadata": {},
   "source": [
    "#### 6. Реализовать два небольших скрипта:"
   ]
  },
  {
   "cell_type": "markdown",
   "id": "5f4e1fe7",
   "metadata": {},
   "source": [
    "#### *итератор, генерирующий целые числа, начиная с указанного:"
   ]
  },
  {
   "cell_type": "code",
   "execution_count": 13,
   "id": "73173e2f",
   "metadata": {},
   "outputs": [],
   "source": [
    "import itertools\n",
    "from itertools import count"
   ]
  },
  {
   "cell_type": "code",
   "execution_count": 15,
   "id": "7b22678c",
   "metadata": {},
   "outputs": [
    {
     "name": "stdout",
     "output_type": "stream",
     "text": [
      "Введите целое число, с которого начнётся генерация: 3\n",
      "Первые десять чисел от стартового включительно: \n",
      "3 4 5 6 7 8 9 10 11 12 "
     ]
    }
   ],
   "source": [
    "iterator = count(int(input('Введите целое число, с которого начнётся генерация: ')))\n",
    "print('Первые десять чисел от стартового включительно: ')\n",
    "for i in range(10):\n",
    "    print(next(iterator), end=' ')"
   ]
  },
  {
   "cell_type": "markdown",
   "id": "14c4e27a",
   "metadata": {},
   "source": [
    "#### *итератор, повторяющий элементы некоторого списка, определённого заранее:\n"
   ]
  },
  {
   "cell_type": "code",
   "execution_count": 16,
   "id": "2318f048",
   "metadata": {},
   "outputs": [],
   "source": [
    "import itertools\n",
    "from itertools import cycle"
   ]
  },
  {
   "cell_type": "code",
   "execution_count": 20,
   "id": "6dfa349c",
   "metadata": {},
   "outputs": [
    {
     "name": "stdout",
     "output_type": "stream",
     "text": [
      "\n",
      " Цикл:\n",
      "10 12.5 str False 10 12.5 str False 10 12.5 str False "
     ]
    }
   ],
   "source": [
    "print('\\n Цикл:')\n",
    "lst = [10, 12.5, 'str', False]\n",
    "#lst = [randint(0, 10) for i in range(3)] - если генерировать\n",
    "iterator = cycle(lst)\n",
    "for i in range(len(lst) * 3):\n",
    "    print(next(iterator), end=' ')"
   ]
  },
  {
   "cell_type": "markdown",
   "id": "7d8025dd",
   "metadata": {},
   "source": [
    "#### 7. Реализовать генератор с помощью функции с ключевым словом yield, создающим очередное значение. При вызове функции должен создаваться объект-генератор. Функция вызывается следующим образом: for el in fact(n). Она отвечает за получение факториала числа. В цикле нужно выводить только первые n чисел, начиная с 1! и до n!.\n"
   ]
  },
  {
   "cell_type": "code",
   "execution_count": 21,
   "id": "48fcbb2d",
   "metadata": {},
   "outputs": [
    {
     "name": "stdout",
     "output_type": "stream",
     "text": [
      "Факториал числа: 3\n",
      "0! = 1\n",
      "1! = 1\n",
      "2! = 2\n",
      "3! = 6\n"
     ]
    }
   ],
   "source": [
    "def fact_n(num):\n",
    "    f_num = 1\n",
    "    for i in range(num + 1):\n",
    "        yield f'{i}! = {f_num}'\n",
    "        f_num *= i + 1\n",
    "for n in fact_n(int(input('Факториал числа: '))):\n",
    "    print(n)"
   ]
  },
  {
   "cell_type": "code",
   "execution_count": null,
   "id": "b046fa27",
   "metadata": {},
   "outputs": [],
   "source": []
  }
 ],
 "metadata": {
  "kernelspec": {
   "display_name": "Python 3 (ipykernel)",
   "language": "python",
   "name": "python3"
  },
  "language_info": {
   "codemirror_mode": {
    "name": "ipython",
    "version": 3
   },
   "file_extension": ".py",
   "mimetype": "text/x-python",
   "name": "python",
   "nbconvert_exporter": "python",
   "pygments_lexer": "ipython3",
   "version": "3.10.5"
  }
 },
 "nbformat": 4,
 "nbformat_minor": 5
}
